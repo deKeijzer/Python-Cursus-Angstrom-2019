{
 "cells": [
  {
   "cell_type": "markdown",
   "metadata": {},
   "source": [
    "# Werkomgeving\n",
    "Waar heb je al die tijd eigenlijk mee gewerkt?"
   ]
  },
  {
   "cell_type": "markdown",
   "metadata": {},
   "source": [
    "## Anaconda\n",
    "Een doos om Python heen, met vanalles al voorgeinstalleerd.  \n",
    "Het heeft zijn voor en na delen.  \n",
    "\n",
    "<img src=\"bijlage/omgeving1.png\">\n",
    "\n",
    "## Python\n",
    "Komt alleen met Python, packages moet je zelf installeren via PIP.  \n",
    "\n",
    "<img src=\"bijlage/omgeving2.png\">\n",
    "\n",
    "## Python & Anaconda op je computer\n",
    "Merk op dat het twee gescheiden omgevingen zijn.  \n",
    "Dit is vaak waar dingen fout gaan.  \n",
    "\n",
    "<img src=\"bijlage/omgeving3.png\">\n",
    "  "
   ]
  },
  {
   "cell_type": "markdown",
   "metadata": {},
   "source": [
    "# Python installatie\n",
    "[Link naar de Python website](https://www.python.org/)\n",
    "\n",
    "<img src=\"bijlage/python3.png\">\n",
    " \n",
    "<b>Waarom Python 3.6.8?</b>  \n",
    "Nog niet alle packages ondersteunen Python 3.7.\n",
    "\n",
    "\n",
    "<img src=\"bijlage/python1.png\">\n",
    "\n",
    "\n",
    "<img src=\"bijlage/python2.png\">\n",
    "\n",
    "### In het geval van Windows\n",
    "<b>Let op!</b>  \n",
    "Selecteer de goede versie, i.e. 64 als je een 64 bit Windows installatie hebt.\n",
    "\n",
    "<img src=\"bijlage/python4.png\">\n",
    "\n",
    "<img src=\"bijlage/python5.png\">\n",
    "\n",
    "<img src=\"bijlage/python6.png\">\n",
    "\n",
    "<img src=\"bijlage/python7.png\">\n",
    "\n",
    "Zorg dat je installeert met de `environment variables`."
   ]
  },
  {
   "cell_type": "markdown",
   "metadata": {},
   "source": [
    "# Packages installeren met PIP\n",
    "Python is nog kaal, NumPy, Matplotlib en bijvoorbeeld Pandas zijn nog niet geïnstalleerd."
   ]
  },
  {
   "cell_type": "markdown",
   "metadata": {},
   "source": [
    "## Wat is PIP?\n",
    "Een package manager voor Python packages.  \n",
    "Waarom PIP en niet (Ana)conda?  \n",
    "\n",
    "* Anaconda heeft voorgeïnstalleerd, dit heeft zowel voor- als nadelen.\n",
    "* PIP zit standaard in Python geintegreerd."
   ]
  },
  {
   "cell_type": "markdown",
   "metadata": {},
   "source": [
    "## Gebruik PIP\n",
    "PIP gebruik je via je terminal (Admin rechten zijn nodig).  \n",
    "<img src=\"bijlage/cmd.png\">"
   ]
  },
  {
   "cell_type": "markdown",
   "metadata": {},
   "source": [
    "\n",
    "<img src=\"bijlage/cmd2.png\">\n",
    "\n",
    "Linux mensen zullen hier bekend mij zijn, maar normale mensen schrikt dit misschien af.  \n",
    "Net heb je Python geïnstalleerd door te klikken in een grafisch interface, hier doe je hetzelfde maar dan door het typen van `commands`.\n",
    "\n",
    "Installeer een `<package>` via: `pip install <package>`  \n",
    "Of update een `<package>` via: `pip install <package> --upgrade`\n",
    "\n",
    "Bijvoorbeeld voor NumPy: `pip install numpy` (druk nu op enter)\n",
    "\n",
    "<img src=\"bijlage/cmd3.png\">\n",
    "\n",
    "In mijn geval is het al geïnstalleerd. \n",
    "\n",
    "Veel gebruikte & handige packages:\n",
    "\n",
    "* numpy\n",
    "* pandas\n",
    "* matplotlib\n",
    "* seaborn\n",
    "* scikit-learn\n",
    "* tqdm  \n",
    "\n",
    "Installeer deze.  \n",
    "\n",
    "## Wat doen deze packages nou precies?  \n",
    "<b>NumPy</b>  \n",
    "Matrix berekeningen en transformaties op een 'laag niveau'.  \n",
    "Vereist soms abstractere en/of meer code dan Pandas.  \n",
    "\n",
    "<b>Pandas</b>  \n",
    "Bouwt verder op NumPy, ongeveer hetzelfde maar op een 'hoog niveau'. \n",
    "Is iets gebruiksvriendelijker door een lagere leer drempel, maar de code is langzamer dan NumPy.  \n",
    "\n",
    "<b>Matplotlib</b>  \n",
    "Je basis plot package.  \n",
    "\n",
    "<b>Seaborn</b>  \n",
    "Bouwt verder op Matplotlib.  \n",
    "Maakt standaard 'mooiere' plotjes dan Matplotlib, voor TN niet altijd handig (rapportage journaal).  \n",
    "Kan automatisch statistiek toevoegen aan je plotjes, dit kan handig zijn.  \n",
    "\n",
    "<b>Scikit learn</b>  \n",
    "Machine learning package, hier zitten al je tools in voor statistiek en het maken van fits.  \n",
    "\n",
    "<b>Tqdm</b>  \n",
    "Geeft een progressbar bij bijvoorbeeld loops.  \n",
    "Kan erg handig zijn wanneer loops langer duren.  "
   ]
  },
  {
   "cell_type": "code",
   "execution_count": 2,
   "metadata": {},
   "outputs": [
    {
     "name": "stderr",
     "output_type": "stream",
     "text": [
      "100%|████████████████████████████████████████████████████████████████████████████████| 500/500 [00:25<00:00, 19.44it/s]\n"
     ]
    }
   ],
   "source": [
    "import time\n",
    "from tqdm import tqdm\n",
    "\n",
    "for _ in tqdm(range(500)):\n",
    "    time.sleep(0.05)"
   ]
  },
  {
   "cell_type": "markdown",
   "metadata": {},
   "source": [
    "# Jupyter Notebooks\n",
    "Een interactieve programmeer omgeving voor Python.  \n",
    "Het is een tool om jou het leven makkelijker te maken.  \n",
    "Wordt gebruik door:\n",
    "\n",
    "<center><img src=\"bijlage/logo1.png\" width=\"200\" height=\"40\"> <img src=\"bijlage/logo2.png\" width=\"200\" height=\"40\"> <img src=\"bijlage/logo3.png\" width=\"200\" height=\"40\"></center>\n",
    "<img src=\"bijlage/logo4.png\" width=\"500\" height=\"100\">\n",
    "\n",
    "\n",
    "\n",
    "# Jupyter Lab\n",
    "Een nieuwe omgeving ontwikkeld door Jupyter, bevat meer dan alleen notebooks.  \n",
    "\n",
    "Installatie: `pip install jupyterlab`  "
   ]
  }
 ],
 "metadata": {
  "kernelspec": {
   "display_name": "Python 3",
   "language": "python",
   "name": "python3"
  },
  "language_info": {
   "codemirror_mode": {
    "name": "ipython",
    "version": 3
   },
   "file_extension": ".py",
   "mimetype": "text/x-python",
   "name": "python",
   "nbconvert_exporter": "python",
   "pygments_lexer": "ipython3",
   "version": "3.6.7"
  }
 },
 "nbformat": 4,
 "nbformat_minor": 2
}
